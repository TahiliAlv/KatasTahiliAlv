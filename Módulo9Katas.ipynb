{
 "cells": [
  {
   "cell_type": "code",
   "execution_count": 11,
   "metadata": {},
   "outputs": [],
   "source": [
    "def Initiate_report(tank_1, tank_2, tank_3):\n",
    "    average_levels = (tank_1 + tank_2 + tank_3) /3\n",
    "    return f\"\"\" Results fuel levels:\n",
    "    Tank 1 level: {tank_1}%\n",
    "    Tank 2 level: {tank_2}%\n",
    "    Tank 3 level: {tank_3}%\n",
    "    Average level: {average_levels} \"\"\""
   ]
  },
  {
   "cell_type": "code",
   "execution_count": 12,
   "metadata": {},
   "outputs": [
    {
     "name": "stdout",
     "output_type": "stream",
     "text": [
      " Results fuel levels:\n",
      "    Tank 1 level: 30%\n",
      "    Tank 2 level: 60%\n",
      "    Tank 3 level: 25%\n",
      "    Average level: 38.333333333333336 \n"
     ]
    }
   ],
   "source": [
    "print (Initiate_report (30, 60, 25))"
   ]
  },
  {
   "cell_type": "code",
   "execution_count": 34,
   "metadata": {},
   "outputs": [],
   "source": [
    "def Average_fuel_on_tanks (values):\n",
    "    total_items = len (values)\n",
    "    total_fuel = sum (values)\n",
    "    return f\" Showing fuel average levels: {total_fuel / total_items} % \""
   ]
  },
  {
   "cell_type": "code",
   "execution_count": 36,
   "metadata": {},
   "outputs": [
    {
     "name": "stdout",
     "output_type": "stream",
     "text": [
      " Showing fuel average levels: 38.333333333333336 % \n"
     ]
    }
   ],
   "source": [
    "print (Average_fuel_on_tanks([30, 60, 25])) "
   ]
  },
  {
   "cell_type": "code",
   "execution_count": 40,
   "metadata": {},
   "outputs": [],
   "source": [
    "def Initiate_report(tank_1, tank_2, tank_3):\n",
    "    return f\"\"\" Results fuel levels:\n",
    "    Tank 1 level: {tank_1}%\n",
    "    Tank 2 level: {tank_2}%\n",
    "    Tank 3 level: {tank_3}%\n",
    "    Average level: {Average_fuel_on_tanks([tank_1, tank_2, tank_3])} \"\"\""
   ]
  },
  {
   "cell_type": "code",
   "execution_count": 41,
   "metadata": {},
   "outputs": [
    {
     "name": "stdout",
     "output_type": "stream",
     "text": [
      " Results fuel levels:\n",
      "    Tank 1 level: 88%\n",
      "    Tank 2 level: 76%\n",
      "    Tank 3 level: 70%\n",
      "    Average level:  Showing fuel average levels: 78.0 %  \n"
     ]
    }
   ],
   "source": [
    "print(Initiate_report(88, 76, 70))"
   ]
  },
  {
   "cell_type": "code",
   "execution_count": 44,
   "metadata": {},
   "outputs": [],
   "source": [
    "def ship_report (pre_launch_time, flight_time, destination, external_tank, main_tank):\n",
    "    return f\"\"\"\n",
    "    --- Showing general report ---\n",
    "    Final destination: {destination}\n",
    "    Total travel time: {pre_launch_time + flight_time} minutes\n",
    "    Total fuel left:{external_tank + main_tank} gallons\"\"\"\n",
    "\n"
   ]
  },
  {
   "cell_type": "code",
   "execution_count": 45,
   "metadata": {},
   "outputs": [
    {
     "name": "stdout",
     "output_type": "stream",
     "text": [
      "\n",
      "    --- Showing general report ---\n",
      "    Final destination: Saturn\n",
      "    Total travel time: 65 minutes\n",
      "    Total fuel left:500000 gallons\n"
     ]
    }
   ],
   "source": [
    "print(ship_report(14, 51, \"Saturn\", 200000, 300000))"
   ]
  },
  {
   "cell_type": "code",
   "execution_count": 49,
   "metadata": {},
   "outputs": [],
   "source": [
    "def ship_report(destination, *minutes, **fuel_reservoirs):\n",
    "    return f\"\"\"\n",
    "    --- Showing general report ---\n",
    "    Mission to {destination}\n",
    "    Total travel time: {sum(minutes)} minutes\n",
    "    Total fuel left: {sum(fuel_reservoirs.values())}\n",
    "    \"\"\""
   ]
  },
  {
   "cell_type": "code",
   "execution_count": 52,
   "metadata": {},
   "outputs": [
    {
     "name": "stdout",
     "output_type": "stream",
     "text": [
      "\n",
      "    --- Showing general report ---\n",
      "    Mission to Moon\n",
      "    Total travel time: 90 minutes\n",
      "    Total fuel left: 500000\n",
      "    \n"
     ]
    }
   ],
   "source": [
    "print(ship_report(\"Moon\", 75, 15 , tank_1=300000, tank_2=200000))"
   ]
  },
  {
   "cell_type": "code",
   "execution_count": 53,
   "metadata": {},
   "outputs": [],
   "source": [
    "def ship_report(destination, *minutes, **fuel_reservoirs):\n",
    "    ship_report = f\"\"\"\n",
    "     --- Showing general report details ---\n",
    "    Mission to {destination}\n",
    "    Total travel time: {sum(minutes)} minutes\n",
    "    Total fuel left: {sum(fuel_reservoirs.values())}\n",
    "    \"\"\"\n",
    "    for tank_name, gallons in fuel_reservoirs.items():\n",
    "        ship_report += f\"{tank_name} tank --> {gallons} gallons left\\n\"\n",
    "    return ship_report\n",
    "\n"
   ]
  },
  {
   "cell_type": "code",
   "execution_count": 55,
   "metadata": {},
   "outputs": [
    {
     "name": "stdout",
     "output_type": "stream",
     "text": [
      "\n",
      "     --- Showing general report details ---\n",
      "    Mission to Moon\n",
      "    Total travel time: 74 minutes\n",
      "    Total fuel left: 500000\n",
      "    tank_1 tank --> 300000 gallons left\n",
      "tank_2 tank --> 200000 gallons left\n",
      "\n"
     ]
    }
   ],
   "source": [
    "print(ship_report(\"Moon\", 8, 11, 55, tank_1=300000, tank_2=200000))"
   ]
  }
 ],
 "metadata": {
  "interpreter": {
   "hash": "669f5abd92f1a410df15b0643b9f42360e277a412fc08ae8bc7d7911cf7e8f3d"
  },
  "kernelspec": {
   "display_name": "Python 3.10.2 64-bit",
   "language": "python",
   "name": "python3"
  },
  "language_info": {
   "codemirror_mode": {
    "name": "ipython",
    "version": 3
   },
   "file_extension": ".py",
   "mimetype": "text/x-python",
   "name": "python",
   "nbconvert_exporter": "python",
   "pygments_lexer": "ipython3",
   "version": "3.10.2"
  },
  "orig_nbformat": 4
 },
 "nbformat": 4,
 "nbformat_minor": 2
}
