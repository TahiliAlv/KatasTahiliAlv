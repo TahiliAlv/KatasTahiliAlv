{
 "cells": [
  {
   "cell_type": "code",
   "execution_count": 10,
   "metadata": {},
   "outputs": [
    {
     "name": "stdout",
     "output_type": "stream",
     "text": [
      "Un asteroide se acerca a gran velocidad, tome sus precauciones\n"
     ]
    }
   ],
   "source": [
    "a = 49\n",
    "if a > 25 :\n",
    "    print (\"Un asteroide se acerca a gran velocidad, tome sus precauciones\")\n",
    "else :\n",
    "    print (\"Hoy no se han detectado asterorides aproximándose, proceda con normalidad\")"
   ]
  },
  {
   "cell_type": "code",
   "execution_count": 8,
   "metadata": {},
   "outputs": [
    {
     "name": "stdout",
     "output_type": "stream",
     "text": [
      "Un asteroide ha entrado en la atmósfera, pero no será visible\n"
     ]
    }
   ],
   "source": [
    "a= 19\n",
    "if a >= 20 :\n",
    "    print (\"Un asteroide ha entrado en la atmósfera, podrás pedir un deseo si miras al cielo hoy!\")\n",
    "elif a < 20 :\n",
    "    print (\"Un asteroide ha entrado en la atmósfera, pero no será visible\")\n",
    "else :\n",
    "    print (\"No hay asteroides acercándose en este momento\")\n"
   ]
  },
  {
   "cell_type": "code",
   "execution_count": 20,
   "metadata": {},
   "outputs": [
    {
     "name": "stdout",
     "output_type": "stream",
     "text": [
      "Un asteroide de rango apocaliptico se aproxima, proceda a la evacuación\n"
     ]
    }
   ],
   "source": [
    "vel = 50\n",
    "size = 50\n",
    "if size > 25 and vel >25:\n",
    "    print (\"Un asteroide de rango apocaliptico se aproxima, proceda a la evacuación\")\n",
    "elif size < 25 and vel >= 20:\n",
    "    print (\"Hoy tendremos lluvia de estrellas! Pide un deseo si ves una estela de luz :) \")\n",
    "elif size < 25 or vel < 20:\n",
    "    print (\"No se han detectado asteroides relevantes\")\n",
    "\n"
   ]
  }
 ],
 "metadata": {
  "interpreter": {
   "hash": "16dcc06e9a625d6545ac48933dd27e60a72a1b14dddfc795ad8d2c678d7f7ec3"
  },
  "kernelspec": {
   "display_name": "Python 3.10.2 64-bit (windows store)",
   "language": "python",
   "name": "python3"
  },
  "language_info": {
   "codemirror_mode": {
    "name": "ipython",
    "version": 3
   },
   "file_extension": ".py",
   "mimetype": "text/x-python",
   "name": "python",
   "nbconvert_exporter": "python",
   "pygments_lexer": "ipython3",
   "version": "3.10.2"
  },
  "orig_nbformat": 4
 },
 "nbformat": 4,
 "nbformat_minor": 2
}
